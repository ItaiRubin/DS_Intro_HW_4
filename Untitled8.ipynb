{
 "cells": [
  {
   "cell_type": "code",
   "execution_count": 1,
   "id": "32020a7d",
   "metadata": {},
   "outputs": [
    {
     "name": "stdout",
     "output_type": "stream",
     "text": [
      "['Istanbul', 'Amsterdam', 'Valletta', 'Basel', 'Doha']\n"
     ]
    }
   ],
   "source": [
    "with open('c:/simulation/dests.txt') as c:\n",
    "    list1 = []\n",
    "    for line in c:\n",
    "        for word in line.split():\n",
    "            list1.append(word)\n",
    "print(list1)"
   ]
  },
  {
   "cell_type": "code",
   "execution_count": 6,
   "id": "5457d832",
   "metadata": {},
   "outputs": [],
   "source": [
    "url = \"https://maps.googleapis.com/maps/api/distancematrix/json?origins=jerusalem&destinations=\" +\"|\" .join(list1) + \"&key=\" #put your key here"
   ]
  },
  {
   "cell_type": "code",
   "execution_count": 3,
   "id": "bdefd4fd",
   "metadata": {},
   "outputs": [],
   "source": [
    "import requests"
   ]
  },
  {
   "cell_type": "code",
   "execution_count": 4,
   "id": "7613bf70",
   "metadata": {},
   "outputs": [],
   "source": [
    "response = requests.get(url)\n",
    "x = response.json()"
   ]
  },
  {
   "cell_type": "code",
   "execution_count": 5,
   "id": "d6707bac",
   "metadata": {},
   "outputs": [
    {
     "name": "stdout",
     "output_type": "stream",
     "text": [
      "Istanbul distance: 1,809 km; duration: 1242 mins\n",
      "Amsterdam distance: 4,528 km; duration: 2853 mins\n",
      "Valletta distance: 3,783 km; duration: 3029 mins\n",
      "Basel distance: 4,091 km; duration: 2623 mins\n",
      "Doha distance: 2,104 km; duration: 1311 mins\n"
     ]
    }
   ],
   "source": [
    "for i in range(len(list1)):\n",
    "    time = str(round(x['rows'][0]['elements'][i]['duration']['value']/60))\n",
    "    distance =  x['rows'][0]['elements'][i]['distance']['text']\n",
    "    print(list1[i] + \" distance: \" + distance + \"; duration: \" + time + \" mins\")"
   ]
  },
  {
   "cell_type": "code",
   "execution_count": 7,
   "id": "91aa1f66",
   "metadata": {},
   "outputs": [],
   "source": [
    "url1 = \"https://maps.googleapis.com/maps/api/geocode/json?address=\" + \"|\" .join(list1) + \"&key=\" #put your key here"
   ]
  },
  {
   "cell_type": "code",
   "execution_count": 8,
   "id": "f96db3ca",
   "metadata": {},
   "outputs": [],
   "source": [
    "response1 = requests.get(url1)\n",
    "x1 = response1.json()"
   ]
  },
  {
   "cell_type": "code",
   "execution_count": 9,
   "id": "0abf118c",
   "metadata": {},
   "outputs": [
    {
     "name": "stdout",
     "output_type": "stream",
     "text": [
      "Istanbul{'lat': 41.0082376, 'lng': 28.9783589}\n",
      "Amsterdam{'lat': 52.3675734, 'lng': 4.9041389}\n",
      "Valletta{'lat': 25.2854473, 'lng': 51.53103979999999}\n",
      "Basel{'lat': 35.8989085, 'lng': 14.5145528}\n",
      "Doha{'lat': 47.5595986, 'lng': 7.5885761}\n"
     ]
    }
   ],
   "source": [
    "for i in range(len(list1)):\n",
    "    long = str(x1['results'][i]['geometry']['location'])\n",
    "    print(list1[i] + long)"
   ]
  },
  {
   "cell_type": "code",
   "execution_count": 10,
   "id": "a811cfcc",
   "metadata": {},
   "outputs": [],
   "source": [
    "tup = dict()\n",
    "for i in range(len(list1)):\n",
    "    x2 = x['rows'][0]['elements'][i]['distance']['text']\n",
    "    t1 = str(x['rows'][0]['elements'][i]['duration']['text'])\n",
    "    long1 = x1['results'][i]['geometry']['location']['lat']\n",
    "    long2 = x1['results'][i]['geometry']['location']['lng']\n",
    "    data = (x2,t1,long1,long2)\n",
    "    tup[list1[i]] = data"
   ]
  },
  {
   "cell_type": "code",
   "execution_count": 11,
   "id": "a80a9500",
   "metadata": {},
   "outputs": [
    {
     "name": "stdout",
     "output_type": "stream",
     "text": [
      "Istanbul \n",
      " distance from Jerusalem: 1,809 km \n",
      " travel time: 20 hours 42 mins \n",
      " location: 41.0082376 28.9783589\n",
      "Amsterdam \n",
      " distance from Jerusalem: 4,528 km \n",
      " travel time: 2 days 0 hours \n",
      " location: 52.3675734 4.9041389\n",
      "Valletta \n",
      " distance from Jerusalem: 3,783 km \n",
      " travel time: 2 days 2 hours \n",
      " location: 25.2854473 51.53103979999999\n",
      "Basel \n",
      " distance from Jerusalem: 4,091 km \n",
      " travel time: 1 day 20 hours \n",
      " location: 35.8989085 14.5145528\n",
      "Doha \n",
      " distance from Jerusalem: 2,104 km \n",
      " travel time: 21 hours 51 mins \n",
      " location: 47.5595986 7.5885761\n"
     ]
    }
   ],
   "source": [
    "for i in tup:\n",
    "    print(i , \"\\n distance from Jerusalem:\" , tup[i][0], \"\\n travel time:\", tup[i][1], \"\\n location:\", tup[i][2], tup[i][3])"
   ]
  },
  {
   "cell_type": "code",
   "execution_count": 12,
   "id": "3c60009b",
   "metadata": {},
   "outputs": [
    {
     "name": "stdout",
     "output_type": "stream",
     "text": [
      "Amsterdam 4528 km form Jerusalem\n",
      "Basel 4091 km form Jerusalem\n",
      "Valletta 3783 km form Jerusalem\n"
     ]
    }
   ],
   "source": [
    "r = []\n",
    "for i in list1:\n",
    "    r.append(int(tup[i][0].replace(\",\",\"\").replace(\"km\",\"\")))\n",
    "r.sort(reverse=True)\n",
    "for i in range(3):\n",
    "    for k,v in tup.items():\n",
    "        urg = int(v[0].replace(\",\",\"\").replace(\"km\",\"\"))\n",
    "        if urg==r[i]: \n",
    "            print(k , r[i] , \"km form Jerusalem\")"
   ]
  },
  {
   "cell_type": "code",
   "execution_count": null,
   "id": "214b403a",
   "metadata": {},
   "outputs": [],
   "source": []
  }
 ],
 "metadata": {
  "kernelspec": {
   "display_name": "Python 3 (ipykernel)",
   "language": "python",
   "name": "python3"
  },
  "language_info": {
   "codemirror_mode": {
    "name": "ipython",
    "version": 3
   },
   "file_extension": ".py",
   "mimetype": "text/x-python",
   "name": "python",
   "nbconvert_exporter": "python",
   "pygments_lexer": "ipython3",
   "version": "3.9.7"
  }
 },
 "nbformat": 4,
 "nbformat_minor": 5
}
